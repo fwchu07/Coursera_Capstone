{
 "cells": [
  {
   "cell_type": "markdown",
   "metadata": {
    "collapsed": true
   },
   "source": [
    "# Introduction and Description of the Problem\n",
    "\n",
    "Seattle is a city that has grown rapidly over the last decade.  From 2010-2018, the population of Seattle grew 22.4%, whereas the population of the United States grew 6.0%.  As the city continues to grow, it is important for potential business owners to examine the types of businesses in the area.  For example, a restaurant owner may not want to open a restaurant in a neighborhood that has many similar types of restaurants. To examine the types of venues in the area, Foursquare location data can be leveraged in order to select a neighborhood that is not saturated with a particular type of restaurant.  Analyzing median income can also be useful in determining price points for the menu. To explore different neighborhoods in Seattle, I will create a map of the neighborhoods showing median income and clustered by venue density."
   ]
  },
  {
   "cell_type": "markdown",
   "metadata": {},
   "source": [
    "# Data\n",
    "Seattle neighborhoods are not official, and many of the boundaries are informal.  To examine neighborhoods and districts, I will be pulling in a GeoJSON map of the Seattle neighborhoods from the City of Seattle.  This file includes the smaller neighborhoods, larger neighborhoods, and latitude and longitude.  For this project, I will be focusing on the neighborhoods that are located near central Seattle.  In order to examine the neighborhoods, I will leverage Foursquare API data to retrieve the 20 most common venues of each of the smaller neighborhoods in Seattle.  I will then use a k-means algorithm to cluster the neighborhoods.  Examining the most common venues in the clusters, I can then identify appropriate neighborhoods for a restaurant.  I will also pull in data of median incomes by neighborhood.  By examining median incomes, this will help business owners decide reasonable prices."
   ]
  },
  {
   "cell_type": "code",
   "execution_count": null,
   "metadata": {},
   "outputs": [],
   "source": []
  }
 ],
 "metadata": {
  "kernelspec": {
   "display_name": "Python 3.6",
   "language": "python",
   "name": "python3"
  },
  "language_info": {
   "codemirror_mode": {
    "name": "ipython",
    "version": 3
   },
   "file_extension": ".py",
   "mimetype": "text/x-python",
   "name": "python",
   "nbconvert_exporter": "python",
   "pygments_lexer": "ipython3",
   "version": "3.6.9"
  }
 },
 "nbformat": 4,
 "nbformat_minor": 1
}
